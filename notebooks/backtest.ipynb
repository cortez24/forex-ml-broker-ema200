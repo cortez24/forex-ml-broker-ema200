# --- 1. Import library ---
import pandas as pd
import numpy as np
import matplotlib.pyplot as plt

# --- 2. Load data hasil prediksi ---
data = pd.read_csv("../data/processed/forex_dataset.csv", parse_dates=["timestamp"])

# Misalnya hasil prediksi sudah ditambahkan kolom: 'pred_signal'
#  1 = buy, -1 = sell, 0 = hold
# Tambahkan sinyal dummy jika belum ada
if "pred_signal" not in data.columns:
    data["pred_signal"] = np.where(data["target"] == 1, 1, -1)

# --- 3. Parameter trading ---
initial_capital = 10000
position_size = 1000   # lot kecil simulasi
take_profit = 0.01     # 1% TP
stop_loss = 0.005      # 0.5% SL

capital = initial_capital
positions = []
equity_curve = []

# --- 4. Backtest loop ---
for i in range(len(data)-1):
    signal = data.loc[i, "pred_signal"]
    price_entry = data.loc[i, "close"]
    price_next = data.loc[i+1, "close"]

    if signal == 1:  # BUY
        # Hitung return
        ret = (price_next - price_entry) / price_entry
    elif signal == -1:  # SELL
        ret = (price_entry - price_next) / price_entry
    else:
        ret = 0

    # Terapkan TP & SL
    if ret >= take_profit:
        ret = take_profit
    elif ret <= -stop_loss:
        ret = -stop_loss

    profit = position_size * ret
    capital += profit
    equity_curve.append(capital)

    positions.append({
        "timestamp": data.loc[i, "timestamp"],
        "signal": signal,
        "entry_price": price_entry,
        "exit_price": price_next,
        "ret": ret,
        "capital": capital
    })

# --- 5. Hasil backtest ---
results = pd.DataFrame(positions)
results.to_csv("../data/processed/backtest_results.csv", index=False)

print("✅ Backtest selesai, hasil disimpan di data/processed/backtest_results.csv")

# --- 6. Plot equity curve ---
plt.figure(figsize=(10,5))
plt.plot(results["timestamp"], equity_curve, label="Equity Curve")
plt.axhline(initial_capital, color="red", linestyle="--", label="Initial Capital")
plt.legend()
plt.title("Backtest Equity Curve")
plt.xlabel("Time")
plt.ylabel("Capital")
plt.show()

# --- 7. Statistik sederhana ---
total_return = (capital - initial_capital) / initial_capital * 100
win_rate = (results[results["ret"] > 0].shape[0] / results.shape[0]) * 100

print(f"Total Return: {total_return:.2f}%")
print(f"Win Rate: {win_rate:.2f}%")
print(f"Final Capital: ${capital:.2f}")

