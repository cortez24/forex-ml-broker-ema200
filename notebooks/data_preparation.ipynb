# notebooks/data_preparation.ipynb

# --- 1. Import library ---
import pandas as pd
import numpy as np
import os

# --- 2. Load raw data ---
price_path = "../data/raw/forex_prices.csv"
news_path = "../data/raw/news_data.csv"

prices = pd.read_csv(price_path, parse_dates=["timestamp"])
news = pd.read_csv(news_path, parse_dates=["date"])

print("Harga forex:", prices.head())
print("Berita fundamental:", news.head())

# --- 3. Cleaning data ---
# Menghapus duplikasi
prices.drop_duplicates(inplace=True)
news.drop_duplicates(inplace=True)

# Mengisi missing value dengan forward fill
prices.fillna(method="ffill", inplace=True)

# --- 4. Feature Engineering (contoh sederhana) ---
# Return harga
prices["return"] = prices["close"].pct_change()

# Moving Average (EMA 200, timeframe 4 jam)
prices["ema200"] = prices["close"].ewm(span=200, adjust=False).mean()

# Label target (contoh: naik 1 jika harga besok lebih tinggi dari hari ini)
prices["target"] = (prices["close"].shift(-1) > prices["close"]).astype(int)

# --- 5. Merge dengan data fundamental ---
# Gabungkan berita berdasarkan tanggal
merged = pd.merge_asof(prices.sort_values("timestamp"),
                       news.sort_values("date"),
                       left_on="timestamp", right_on="date")

# --- 6. Simpan hasil preprocessing ---
output_path = "../data/processed/forex_dataset.csv"
merged.to_csv(output_path, index=False)

print(f"✅ Data processed berhasil disimpan di {output_path}")

