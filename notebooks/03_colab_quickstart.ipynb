# 1. Setup environment
!git clone https://github.com/your-username/forex-ml-broker-ema200.git
%cd forex-ml-broker-ema200
!pip install -r requirements.txt

# 2. Import library
import pandas as pd
from src.fetch_fx_data import fetch_price_pair
from src.feature_engineering import add_features
from src.model_pipeline import train_model

# 3. Fetch data
df = fetch_price_pair("EUR/USD", interval="240min")
df = add_features(df)

# 4. Train model
model, acc = train_model(df)
print("Model trained. Accuracy:", acc)

# 5. Save model
import joblib
joblib.dump(model, "models/eurusd_model.joblib")

# 6. Upload ke Streamlit (opsional: push ke GitHub)

