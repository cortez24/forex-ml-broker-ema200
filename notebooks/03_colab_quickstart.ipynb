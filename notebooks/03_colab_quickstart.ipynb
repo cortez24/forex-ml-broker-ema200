# ============================================
# 03_colab_quickstart.ipynb
# Panduan cepat untuk menjalankan repo di Google Colab
# ============================================

# --- 1. Clone Repo ---
!git clone https://github.com/username/forex-ml-broker.git
%cd forex-ml-broker

# --- 2. Install dependencies ---
!pip install -r requirements.txt
!pip install pyngrok  # untuk jalankan Streamlit di Colab

# --- 3. Generate Dummy Data (opsional kalau belum ada data) ---
!python src/generate_dummy_data.py

# --- 4. Jalankan Feature Engineering ---
!python src/feature_engineering.py

# --- 5. Train Models untuk semua pasangan forex ---
!python src/ml_pipeline.py

# --- 6. Coba Prediksi untuk satu pasangan forex ---
from src.predict import predict_next_move

result = predict_next_move("USD/JPY")
print(result)

# --- 7. Jalankan Dashboard Streamlit di Colab (via ngrok) ---
import os
from pyngrok import ngrok

# Jalankan Streamlit di background
!streamlit run src/dashboard.py &

# Buka tunnel ngrok
public_url = ngrok.connect(addr=8501)
print("Dashboard URL:", public_url)
