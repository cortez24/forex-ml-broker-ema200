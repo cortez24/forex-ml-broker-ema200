# notebooks/01_data_preparation.ipynb

import pandas as pd
import os
from src.technicals import add_indicators

# === Load data forex mentah ===
raw_path = "data/raw/forex_usd_idr.csv"
df = pd.read_csv(raw_path)

print("Data sebelum indikator:")
print(df.head())

# === Tambahkan indikator teknikal ===
df = add_indicators(df)

print("\nData setelah ditambah indikator:")
print(df.tail())

# === Simpan data hasil preprocessing ===
processed_path = "data/processed/forex_usd_idr_with_indicators.csv"
os.makedirs("data/processed", exist_ok=True)
df.to_csv(processed_path, index=False)

print(f"\n✅ Data dengan indikator teknikal disimpan di {processed_path}")

