# notebooks/02_backtest.ipynb

import pandas as pd
import matplotlib.pyplot as plt
import os

from src.technicals import add_indicators

# === Load data processed ===
data_path = "data/processed/forex_usd_idr_with_indicators.csv"
if not os.path.exists(data_path):
    raise FileNotFoundError("Data processed tidak ditemukan, jalankan 01_data_preparation.ipynb dulu.")

df = pd.read_csv(data_path)

# === Pastikan indikator sudah ada ===
df = add_indicators(df)

# === Strategi Trading ===
df["signal"] = 0

# Buy signal
df.loc[(df["close"] > df["ema200"]) & (df["macd_line"] > df["signal_line"]), "signal"] = 1

# Sell signal
df.loc[(df["close"] < df["ema200"]) & (df["macd_line"] < df["signal_line"]), "signal"] = -1

# === Hitung Returns ===
df["return"] = df["close"].pct_change()
df["strategy_return"] = df["signal"].shift(1) * df["return"]

# === Hitung Growth (Equity Curve) ===
df["cumulative_return"] = (1 + df["return"]).cumprod()
df["cumulative_strategy"] = (1 + df["strategy_return"]).cumprod()

# === Statistik ===
total_return = df["cumulative_strategy"].iloc[-1] - 1
buy_trades = (df["signal"] == 1).sum()
sell_trades = (df["signal"] == -1).sum()
trades = buy_trades + sell_trades
win_rate = (df["strategy_return"] > 0).sum() / trades if trades > 0 else 0

print("=== Backtest Summary ===")
print(f"Total Trades: {trades}")
print(f"Buy Trades: {buy_trades}, Sell Trades: {sell_trades}")
print(f"Total Strategy Return: {total_return:.2%}")
print(f"Win Rate: {win_rate:.2%}")

# === Plot Equity Curve ===
plt.figure(figsize=(12,6))
plt.plot(df["timestamp"], df["cumulative_return"], label="Buy & Hold", alpha=0.7)
plt.plot(df["timestamp"], df["cumulative_strategy"], label="Strategy (MACD + EMA200)", alpha=0.9)
plt.legend()
plt.title("Equity Curve Backtest")
plt.xlabel("Time")
plt.ylabel("Growth")
plt.grid(True)
plt.show()

# === Simpan hasil backtest ===
os.makedirs("data/backtest", exist_ok=True)
df.to_csv("data/backtest/backtest_results.csv", index=False)
print("\n✅ Hasil backtest disimpan di data/backtest/backtest_results.csv")

